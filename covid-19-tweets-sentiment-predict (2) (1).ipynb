{
 "cells": [
  {
   "cell_type": "markdown",
   "metadata": {},
   "source": [
    "# COVID-19 Tweets Sentiment Predict"
   ]
  },
  {
   "cell_type": "markdown",
   "metadata": {},
   "source": [
    "## 0. Project descripe"
   ]
  },
  {
   "cell_type": "markdown",
   "metadata": {},
   "source": [
    "\n",
    "\n",
    "#### **Data source:**https://www.kaggle.com/datasets/bansodesandeep/covid19-tweets-data\n",
    "\n",
    "### Problem Statement:\n",
    "* In this project, We will predict the sentiment of these tweets about COVID-19. COVID-19 has made everyone panic in recent years, and some people are expressing their sentiment on social media. If we can distinguish the sentiment of words, we can better care for people who are panicking.\n",
    "\n",
    "### About Data:\n",
    "* 41157 Rows\n",
    "* 6 columns\n",
    "1. UserName (The User ID who tweet)\n",
    "2. ScreenName (The tweet UUID)\n",
    "3. Location \n",
    "4. TweetAt (Time)\n",
    "5. OriginalTweet \n",
    "6. Sentiment"
   ]
  },
  {
   "cell_type": "markdown",
   "metadata": {},
   "source": [
    "## 1. Import libraries"
   ]
  },
  {
   "cell_type": "code",
   "execution_count": 44,
   "metadata": {
    "execution": {
     "iopub.execute_input": "2022-10-11T05:53:36.742580Z",
     "iopub.status.busy": "2022-10-11T05:53:36.742148Z",
     "iopub.status.idle": "2022-10-11T05:53:36.751802Z",
     "shell.execute_reply": "2022-10-11T05:53:36.750298Z",
     "shell.execute_reply.started": "2022-10-11T05:53:36.742546Z"
    }
   },
   "outputs": [],
   "source": [
    "# import libraries\n",
    "import numpy as np\n",
    "import pandas as pd\n",
    "import random\n",
    "import os\n",
    "\n",
    "# visualizations\n",
    "import matplotlib.pyplot as plt\n",
    "import seaborn as sns\n",
    "\n",
    "# text work\n",
    "import re\n",
    "from nltk.corpus import stopwords\n",
    "from nltk.stem import SnowballStemmer\n",
    "from nltk.stem.porter import PorterStemmer\n",
    "from tensorflow.keras.preprocessing.text import Tokenizer\n",
    "from tensorflow.keras.preprocessing.sequence import pad_sequences\n",
    "\n",
    "#model\n",
    "from sklearn.model_selection import train_test_split\n",
    "import tensorflow as tf\n",
    "import tensorflow_addons as tfa\n",
    "from tensorflow.keras import optimizers\n",
    "from tensorflow.keras.models import Sequential\n",
    "from tensorflow.keras.layers import Dense, Embedding, LSTM, Dropout\n",
    "from tensorflow.keras.layers import Bidirectional, GRU\n",
    "from tensorflow.keras.callbacks import EarlyStopping"
   ]
  },
  {
   "cell_type": "markdown",
   "metadata": {},
   "source": [
    "## 2. EDA"
   ]
  },
  {
   "cell_type": "markdown",
   "metadata": {},
   "source": [
    "### 2.1 Import Data"
   ]
  },
  {
   "cell_type": "code",
   "execution_count": 2,
   "metadata": {
    "execution": {
     "iopub.execute_input": "2022-10-11T05:08:01.251416Z",
     "iopub.status.busy": "2022-10-11T05:08:01.250511Z",
     "iopub.status.idle": "2022-10-11T05:08:01.272808Z",
     "shell.execute_reply": "2022-10-11T05:08:01.271366Z",
     "shell.execute_reply.started": "2022-10-11T05:08:01.251374Z"
    }
   },
   "outputs": [
    {
     "name": "stdout",
     "output_type": "stream",
     "text": [
      "/kaggle/input/covid19-tweets-data/Corona_NLP_train.csv\n"
     ]
    }
   ],
   "source": [
    "import os\n",
    "for dirname, _, filenames in os.walk('/kaggle/input'):\n",
    "    for filename in filenames:\n",
    "        print(os.path.join(dirname, filename))"
   ]
  },
  {
   "cell_type": "code",
   "execution_count": 5,
   "metadata": {
    "execution": {
     "iopub.execute_input": "2022-10-11T05:09:55.118160Z",
     "iopub.status.busy": "2022-10-11T05:09:55.117687Z",
     "iopub.status.idle": "2022-10-11T05:09:55.375528Z",
     "shell.execute_reply": "2022-10-11T05:09:55.374217Z",
     "shell.execute_reply.started": "2022-10-11T05:09:55.118127Z"
    }
   },
   "outputs": [],
   "source": [
    "df = pd.read_csv('/kaggle/input/covid19-tweets-data/Corona_NLP_train.csv', encoding='latin-1')"
   ]
  },
  {
   "cell_type": "markdown",
   "metadata": {},
   "source": [
    "### 2.2 Observed the data"
   ]
  },
  {
   "cell_type": "code",
   "execution_count": 7,
   "metadata": {
    "execution": {
     "iopub.execute_input": "2022-10-11T05:11:02.155336Z",
     "iopub.status.busy": "2022-10-11T05:11:02.154760Z",
     "iopub.status.idle": "2022-10-11T05:11:02.173314Z",
     "shell.execute_reply": "2022-10-11T05:11:02.171868Z",
     "shell.execute_reply.started": "2022-10-11T05:11:02.155285Z"
    }
   },
   "outputs": [
    {
     "data": {
      "text/html": [
       "<div>\n",
       "<style scoped>\n",
       "    .dataframe tbody tr th:only-of-type {\n",
       "        vertical-align: middle;\n",
       "    }\n",
       "\n",
       "    .dataframe tbody tr th {\n",
       "        vertical-align: top;\n",
       "    }\n",
       "\n",
       "    .dataframe thead th {\n",
       "        text-align: right;\n",
       "    }\n",
       "</style>\n",
       "<table border=\"1\" class=\"dataframe\">\n",
       "  <thead>\n",
       "    <tr style=\"text-align: right;\">\n",
       "      <th></th>\n",
       "      <th>UserName</th>\n",
       "      <th>ScreenName</th>\n",
       "      <th>Location</th>\n",
       "      <th>TweetAt</th>\n",
       "      <th>OriginalTweet</th>\n",
       "      <th>Sentiment</th>\n",
       "    </tr>\n",
       "  </thead>\n",
       "  <tbody>\n",
       "    <tr>\n",
       "      <th>0</th>\n",
       "      <td>3799</td>\n",
       "      <td>48751</td>\n",
       "      <td>London</td>\n",
       "      <td>16-03-2020</td>\n",
       "      <td>@MeNyrbie @Phil_Gahan @Chrisitv https://t.co/i...</td>\n",
       "      <td>Neutral</td>\n",
       "    </tr>\n",
       "    <tr>\n",
       "      <th>1</th>\n",
       "      <td>3800</td>\n",
       "      <td>48752</td>\n",
       "      <td>UK</td>\n",
       "      <td>16-03-2020</td>\n",
       "      <td>advice Talk to your neighbours family to excha...</td>\n",
       "      <td>Positive</td>\n",
       "    </tr>\n",
       "    <tr>\n",
       "      <th>2</th>\n",
       "      <td>3801</td>\n",
       "      <td>48753</td>\n",
       "      <td>Vagabonds</td>\n",
       "      <td>16-03-2020</td>\n",
       "      <td>Coronavirus Australia: Woolworths to give elde...</td>\n",
       "      <td>Positive</td>\n",
       "    </tr>\n",
       "    <tr>\n",
       "      <th>3</th>\n",
       "      <td>3802</td>\n",
       "      <td>48754</td>\n",
       "      <td>NaN</td>\n",
       "      <td>16-03-2020</td>\n",
       "      <td>My food stock is not the only one which is emp...</td>\n",
       "      <td>Positive</td>\n",
       "    </tr>\n",
       "    <tr>\n",
       "      <th>4</th>\n",
       "      <td>3803</td>\n",
       "      <td>48755</td>\n",
       "      <td>NaN</td>\n",
       "      <td>16-03-2020</td>\n",
       "      <td>Me, ready to go at supermarket during the #COV...</td>\n",
       "      <td>Extremely Negative</td>\n",
       "    </tr>\n",
       "  </tbody>\n",
       "</table>\n",
       "</div>"
      ],
      "text/plain": [
       "   UserName  ScreenName   Location     TweetAt  \\\n",
       "0      3799       48751     London  16-03-2020   \n",
       "1      3800       48752         UK  16-03-2020   \n",
       "2      3801       48753  Vagabonds  16-03-2020   \n",
       "3      3802       48754        NaN  16-03-2020   \n",
       "4      3803       48755        NaN  16-03-2020   \n",
       "\n",
       "                                       OriginalTweet           Sentiment  \n",
       "0  @MeNyrbie @Phil_Gahan @Chrisitv https://t.co/i...             Neutral  \n",
       "1  advice Talk to your neighbours family to excha...            Positive  \n",
       "2  Coronavirus Australia: Woolworths to give elde...            Positive  \n",
       "3  My food stock is not the only one which is emp...            Positive  \n",
       "4  Me, ready to go at supermarket during the #COV...  Extremely Negative  "
      ]
     },
     "execution_count": 7,
     "metadata": {},
     "output_type": "execute_result"
    }
   ],
   "source": [
    "df.head()"
   ]
  },
  {
   "cell_type": "code",
   "execution_count": 9,
   "metadata": {
    "execution": {
     "iopub.execute_input": "2022-10-11T05:11:12.885234Z",
     "iopub.status.busy": "2022-10-11T05:11:12.884770Z",
     "iopub.status.idle": "2022-10-11T05:11:12.893543Z",
     "shell.execute_reply": "2022-10-11T05:11:12.892245Z",
     "shell.execute_reply.started": "2022-10-11T05:11:12.885198Z"
    }
   },
   "outputs": [
    {
     "data": {
      "text/plain": [
       "(41157, 6)"
      ]
     },
     "execution_count": 9,
     "metadata": {},
     "output_type": "execute_result"
    }
   ],
   "source": [
    "df.shape"
   ]
  },
  {
   "cell_type": "code",
   "execution_count": 10,
   "metadata": {
    "execution": {
     "iopub.execute_input": "2022-10-11T05:11:22.692244Z",
     "iopub.status.busy": "2022-10-11T05:11:22.691822Z",
     "iopub.status.idle": "2022-10-11T05:11:22.896607Z",
     "shell.execute_reply": "2022-10-11T05:11:22.895343Z",
     "shell.execute_reply.started": "2022-10-11T05:11:22.692204Z"
    }
   },
   "outputs": [
    {
     "data": {
      "text/plain": [
       "<AxesSubplot:ylabel='Sentiment'>"
      ]
     },
     "execution_count": 10,
     "metadata": {},
     "output_type": "execute_result"
    },
    {
     "data": {
      "image/png": "[encoded data removed]",
      "text/plain": [
       "<Figure size 432x288 with 1 Axes>"
      ]
     },
     "metadata": {},
     "output_type": "display_data"
    }
   ],
   "source": [
    "df['Sentiment'].value_counts().plot(kind='pie')"
   ]
  },
  {
   "cell_type": "code",
   "execution_count": 13,
   "metadata": {
    "execution": {
     "iopub.execute_input": "2022-10-11T05:11:51.607194Z",
     "iopub.status.busy": "2022-10-11T05:11:51.606623Z",
     "iopub.status.idle": "2022-10-11T05:11:51.639089Z",
     "shell.execute_reply": "2022-10-11T05:11:51.637715Z",
     "shell.execute_reply.started": "2022-10-11T05:11:51.607145Z"
    }
   },
   "outputs": [
    {
     "data": {
      "text/plain": [
       "UserName            0\n",
       "ScreenName          0\n",
       "Location         8590\n",
       "TweetAt             0\n",
       "OriginalTweet       0\n",
       "Sentiment           0\n",
       "dtype: int64"
      ]
     },
     "execution_count": 13,
     "metadata": {},
     "output_type": "execute_result"
    }
   ],
   "source": [
    "df.isnull().sum()"
   ]
  },
  {
   "cell_type": "markdown",
   "metadata": {},
   "source": [
    "##### There are 8590 null in Location Column"
   ]
  },
  {
   "cell_type": "markdown",
   "metadata": {},
   "source": [
    "### 2.3 Clean the data"
   ]
  },
  {
   "cell_type": "markdown",
   "metadata": {},
   "source": [
    "#### 2.3.1 Drop the useless feature\n",
    "I will distinguish the sentiment by `OriginalTweet`."
   ]
  },
  {
   "cell_type": "code",
   "execution_count": 15,
   "metadata": {
    "execution": {
     "iopub.execute_input": "2022-10-11T05:18:54.745425Z",
     "iopub.status.busy": "2022-10-11T05:18:54.744982Z",
     "iopub.status.idle": "2022-10-11T05:18:54.763522Z",
     "shell.execute_reply": "2022-10-11T05:18:54.762204Z",
     "shell.execute_reply.started": "2022-10-11T05:18:54.745376Z"
    }
   },
   "outputs": [],
   "source": [
    "df = df.drop('Location', axis=1)\n",
    "df = df.drop('UserName', axis=1)\n",
    "df = df.drop('ScreenName', axis=1)\n",
    "df = df.drop('TweetAt', axis=1)"
   ]
  },
  {
   "cell_type": "code",
   "execution_count": 16,
   "metadata": {
    "execution": {
     "iopub.execute_input": "2022-10-11T05:19:00.540835Z",
     "iopub.status.busy": "2022-10-11T05:19:00.540436Z",
     "iopub.status.idle": "2022-10-11T05:19:00.553341Z",
     "shell.execute_reply": "2022-10-11T05:19:00.552210Z",
     "shell.execute_reply.started": "2022-10-11T05:19:00.540796Z"
    }
   },
   "outputs": [
    {
     "data": {
      "text/html": [
       "<div>\n",
       "<style scoped>\n",
       "    .dataframe tbody tr th:only-of-type {\n",
       "        vertical-align: middle;\n",
       "    }\n",
       "\n",
       "    .dataframe tbody tr th {\n",
       "        vertical-align: top;\n",
       "    }\n",
       "\n",
       "    .dataframe thead th {\n",
       "        text-align: right;\n",
       "    }\n",
       "</style>\n",
       "<table border=\"1\" class=\"dataframe\">\n",
       "  <thead>\n",
       "    <tr style=\"text-align: right;\">\n",
       "      <th></th>\n",
       "      <th>OriginalTweet</th>\n",
       "      <th>Sentiment</th>\n",
       "    </tr>\n",
       "  </thead>\n",
       "  <tbody>\n",
       "    <tr>\n",
       "      <th>0</th>\n",
       "      <td>@MeNyrbie @Phil_Gahan @Chrisitv https://t.co/i...</td>\n",
       "      <td>Neutral</td>\n",
       "    </tr>\n",
       "    <tr>\n",
       "      <th>1</th>\n",
       "      <td>advice Talk to your neighbours family to excha...</td>\n",
       "      <td>Positive</td>\n",
       "    </tr>\n",
       "    <tr>\n",
       "      <th>2</th>\n",
       "      <td>Coronavirus Australia: Woolworths to give elde...</td>\n",
       "      <td>Positive</td>\n",
       "    </tr>\n",
       "    <tr>\n",
       "      <th>3</th>\n",
       "      <td>My food stock is not the only one which is emp...</td>\n",
       "      <td>Positive</td>\n",
       "    </tr>\n",
       "    <tr>\n",
       "      <th>4</th>\n",
       "      <td>Me, ready to go at supermarket during the #COV...</td>\n",
       "      <td>Extremely Negative</td>\n",
       "    </tr>\n",
       "  </tbody>\n",
       "</table>\n",
       "</div>"
      ],
      "text/plain": [
       "                                       OriginalTweet           Sentiment\n",
       "0  @MeNyrbie @Phil_Gahan @Chrisitv https://t.co/i...             Neutral\n",
       "1  advice Talk to your neighbours family to excha...            Positive\n",
       "2  Coronavirus Australia: Woolworths to give elde...            Positive\n",
       "3  My food stock is not the only one which is emp...            Positive\n",
       "4  Me, ready to go at supermarket during the #COV...  Extremely Negative"
      ]
     },
     "execution_count": 16,
     "metadata": {},
     "output_type": "execute_result"
    }
   ],
   "source": [
    "df.head()"
   ]
  },
  {
   "cell_type": "markdown",
   "metadata": {},
   "source": [
    "#### delete the Neutral rows"
   ]
  },
  {
   "cell_type": "code",
   "execution_count": 206,
   "metadata": {
    "execution": {
     "iopub.execute_input": "2022-10-11T07:29:54.170332Z",
     "iopub.status.busy": "2022-10-11T07:29:54.169880Z",
     "iopub.status.idle": "2022-10-11T07:29:54.184481Z",
     "shell.execute_reply": "2022-10-11T07:29:54.183312Z",
     "shell.execute_reply.started": "2022-10-11T07:29:54.170287Z"
    }
   },
   "outputs": [],
   "source": [
    "df = df[df.Sentiment != 'Neutral']"
   ]
  },
  {
   "cell_type": "code",
   "execution_count": 207,
   "metadata": {
    "execution": {
     "iopub.execute_input": "2022-10-11T07:29:55.460510Z",
     "iopub.status.busy": "2022-10-11T07:29:55.459954Z",
     "iopub.status.idle": "2022-10-11T07:29:55.476407Z",
     "shell.execute_reply": "2022-10-11T07:29:55.475031Z",
     "shell.execute_reply.started": "2022-10-11T07:29:55.460459Z"
    }
   },
   "outputs": [
    {
     "data": {
      "text/html": [
       "<div>\n",
       "<style scoped>\n",
       "    .dataframe tbody tr th:only-of-type {\n",
       "        vertical-align: middle;\n",
       "    }\n",
       "\n",
       "    .dataframe tbody tr th {\n",
       "        vertical-align: top;\n",
       "    }\n",
       "\n",
       "    .dataframe thead th {\n",
       "        text-align: right;\n",
       "    }\n",
       "</style>\n",
       "<table border=\"1\" class=\"dataframe\">\n",
       "  <thead>\n",
       "    <tr style=\"text-align: right;\">\n",
       "      <th></th>\n",
       "      <th>OriginalTweet</th>\n",
       "      <th>Sentiment</th>\n",
       "      <th>NewTweet</th>\n",
       "    </tr>\n",
       "  </thead>\n",
       "  <tbody>\n",
       "    <tr>\n",
       "      <th>1</th>\n",
       "      <td>advice Talk to your neighbours family to excha...</td>\n",
       "      <td>Positive</td>\n",
       "      <td>advic talk neighbour famili exchang phone numb...</td>\n",
       "    </tr>\n",
       "    <tr>\n",
       "      <th>2</th>\n",
       "      <td>Coronavirus Australia: Woolworths to give elde...</td>\n",
       "      <td>Positive</td>\n",
       "      <td>coronaviru australia woolworth give elderli di...</td>\n",
       "    </tr>\n",
       "    <tr>\n",
       "      <th>3</th>\n",
       "      <td>My food stock is not the only one which is emp...</td>\n",
       "      <td>Positive</td>\n",
       "      <td>food stock one empti pleas panic enough food e...</td>\n",
       "    </tr>\n",
       "    <tr>\n",
       "      <th>4</th>\n",
       "      <td>Me, ready to go at supermarket during the #COV...</td>\n",
       "      <td>Extremely Negative</td>\n",
       "      <td>readi go supermarket covid outbreak paranoid f...</td>\n",
       "    </tr>\n",
       "    <tr>\n",
       "      <th>5</th>\n",
       "      <td>As news of the regionÂs first confirmed COVID...</td>\n",
       "      <td>Positive</td>\n",
       "      <td>news region first confirm covid case came sull...</td>\n",
       "    </tr>\n",
       "  </tbody>\n",
       "</table>\n",
       "</div>"
      ],
      "text/plain": [
       "                                       OriginalTweet           Sentiment  \\\n",
       "1  advice Talk to your neighbours family to excha...            Positive   \n",
       "2  Coronavirus Australia: Woolworths to give elde...            Positive   \n",
       "3  My food stock is not the only one which is emp...            Positive   \n",
       "4  Me, ready to go at supermarket during the #COV...  Extremely Negative   \n",
       "5  As news of the regionÂs first confirmed COVID...            Positive   \n",
       "\n",
       "                                            NewTweet  \n",
       "1  advic talk neighbour famili exchang phone numb...  \n",
       "2  coronaviru australia woolworth give elderli di...  \n",
       "3  food stock one empti pleas panic enough food e...  \n",
       "4  readi go supermarket covid outbreak paranoid f...  \n",
       "5  news region first confirm covid case came sull...  "
      ]
     },
     "execution_count": 207,
     "metadata": {},
     "output_type": "execute_result"
    }
   ],
   "source": [
    "df.head()"
   ]
  },
  {
   "cell_type": "markdown",
   "metadata": {},
   "source": [
    "#### 2.3.2 Clean the tweets"
   ]
  },
  {
   "cell_type": "markdown",
   "metadata": {},
   "source": [
    "Build a help function to process text"
   ]
  },
  {
   "cell_type": "markdown",
   "metadata": {},
   "source": [
    "I will remove URL, HTML tags, emotes, symbols, flags, stopwords, and make all text lowercase."
   ]
  },
  {
   "cell_type": "code",
   "execution_count": 208,
   "metadata": {
    "execution": {
     "iopub.execute_input": "2022-10-11T07:29:59.460337Z",
     "iopub.status.busy": "2022-10-11T07:29:59.459184Z",
     "iopub.status.idle": "2022-10-11T07:29:59.467967Z",
     "shell.execute_reply": "2022-10-11T07:29:59.466568Z",
     "shell.execute_reply.started": "2022-10-11T07:29:59.460249Z"
    }
   },
   "outputs": [],
   "source": [
    "ps = PorterStemmer()\n",
    "def process_text(data):\n",
    "    review = re.sub(r'https?://\\S+|www\\.\\S+|http?://\\S+',' ',data) # remove URL\n",
    "    review = re.sub(r'<.*>',' ',review) # remove HTML tags\n",
    "    review = re.sub(\"[\"\n",
    "                           u\"\\U0001F600-\\U0001F64F\"  # removal of emoticons\n",
    "                           u\"\\U0001F300-\\U0001F5FF\"  # symbols & pictographs\n",
    "                           u\"\\U0001F680-\\U0001F6FF\"  # transport & map symbols\n",
    "                           u\"\\U0001F1E0-\\U0001F1FF\"  # flags (iOS)\n",
    "                           u\"\\U00002702-\\U000027B0\"\n",
    "                           u\"\\U000024C2-\\U0001F251\"\n",
    "                           \"]+\",' ',review)\n",
    "    review = re.sub('[^a-zA-Z]',' ',review) # filtering out miscellaneous text.\n",
    "    review = review.lower()\n",
    "    review = review.split()\n",
    "    review = [ps.stem(words) for words in review if words not in stopwords.words('english') and words.isalpha()]\n",
    "    review = ' '.join(review)\n",
    "    return review"
   ]
  },
  {
   "cell_type": "code",
   "execution_count": 26,
   "metadata": {
    "execution": {
     "iopub.execute_input": "2022-10-11T05:32:22.865991Z",
     "iopub.status.busy": "2022-10-11T05:32:22.865553Z",
     "iopub.status.idle": "2022-10-11T05:35:41.307555Z",
     "shell.execute_reply": "2022-10-11T05:35:41.306419Z",
     "shell.execute_reply.started": "2022-10-11T05:32:22.865952Z"
    }
   },
   "outputs": [],
   "source": [
    "df['NewTweet'] = df['OriginalTweet'].apply(process_text)"
   ]
  },
  {
   "cell_type": "code",
   "execution_count": 209,
   "metadata": {
    "execution": {
     "iopub.execute_input": "2022-10-11T07:30:02.813416Z",
     "iopub.status.busy": "2022-10-11T07:30:02.812984Z",
     "iopub.status.idle": "2022-10-11T07:30:02.825781Z",
     "shell.execute_reply": "2022-10-11T07:30:02.824352Z",
     "shell.execute_reply.started": "2022-10-11T07:30:02.813379Z"
    }
   },
   "outputs": [
    {
     "data": {
      "text/html": [
       "<div>\n",
       "<style scoped>\n",
       "    .dataframe tbody tr th:only-of-type {\n",
       "        vertical-align: middle;\n",
       "    }\n",
       "\n",
       "    .dataframe tbody tr th {\n",
       "        vertical-align: top;\n",
       "    }\n",
       "\n",
       "    .dataframe thead th {\n",
       "        text-align: right;\n",
       "    }\n",
       "</style>\n",
       "<table border=\"1\" class=\"dataframe\">\n",
       "  <thead>\n",
       "    <tr style=\"text-align: right;\">\n",
       "      <th></th>\n",
       "      <th>OriginalTweet</th>\n",
       "      <th>Sentiment</th>\n",
       "      <th>NewTweet</th>\n",
       "    </tr>\n",
       "  </thead>\n",
       "  <tbody>\n",
       "    <tr>\n",
       "      <th>1</th>\n",
       "      <td>advice Talk to your neighbours family to excha...</td>\n",
       "      <td>Positive</td>\n",
       "      <td>advic talk neighbour famili exchang phone numb...</td>\n",
       "    </tr>\n",
       "    <tr>\n",
       "      <th>2</th>\n",
       "      <td>Coronavirus Australia: Woolworths to give elde...</td>\n",
       "      <td>Positive</td>\n",
       "      <td>coronaviru australia woolworth give elderli di...</td>\n",
       "    </tr>\n",
       "    <tr>\n",
       "      <th>3</th>\n",
       "      <td>My food stock is not the only one which is emp...</td>\n",
       "      <td>Positive</td>\n",
       "      <td>food stock one empti pleas panic enough food e...</td>\n",
       "    </tr>\n",
       "    <tr>\n",
       "      <th>4</th>\n",
       "      <td>Me, ready to go at supermarket during the #COV...</td>\n",
       "      <td>Extremely Negative</td>\n",
       "      <td>readi go supermarket covid outbreak paranoid f...</td>\n",
       "    </tr>\n",
       "    <tr>\n",
       "      <th>5</th>\n",
       "      <td>As news of the regionÂs first confirmed COVID...</td>\n",
       "      <td>Positive</td>\n",
       "      <td>news region first confirm covid case came sull...</td>\n",
       "    </tr>\n",
       "  </tbody>\n",
       "</table>\n",
       "</div>"
      ],
      "text/plain": [
       "                                       OriginalTweet           Sentiment  \\\n",
       "1  advice Talk to your neighbours family to excha...            Positive   \n",
       "2  Coronavirus Australia: Woolworths to give elde...            Positive   \n",
       "3  My food stock is not the only one which is emp...            Positive   \n",
       "4  Me, ready to go at supermarket during the #COV...  Extremely Negative   \n",
       "5  As news of the regionÂs first confirmed COVID...            Positive   \n",
       "\n",
       "                                            NewTweet  \n",
       "1  advic talk neighbour famili exchang phone numb...  \n",
       "2  coronaviru australia woolworth give elderli di...  \n",
       "3  food stock one empti pleas panic enough food e...  \n",
       "4  readi go supermarket covid outbreak paranoid f...  \n",
       "5  news region first confirm covid case came sull...  "
      ]
     },
     "execution_count": 209,
     "metadata": {},
     "output_type": "execute_result"
    }
   ],
   "source": [
    "df.head()"
   ]
  },
  {
   "cell_type": "markdown",
   "metadata": {},
   "source": [
    "And split to X and y"
   ]
  },
  {
   "cell_type": "code",
   "execution_count": 210,
   "metadata": {
    "execution": {
     "iopub.execute_input": "2022-10-11T07:30:05.781251Z",
     "iopub.status.busy": "2022-10-11T07:30:05.780833Z",
     "iopub.status.idle": "2022-10-11T07:30:05.787709Z",
     "shell.execute_reply": "2022-10-11T07:30:05.786230Z",
     "shell.execute_reply.started": "2022-10-11T07:30:05.781220Z"
    }
   },
   "outputs": [],
   "source": [
    "X = df['NewTweet']\n",
    "y = df['Sentiment']"
   ]
  },
  {
   "cell_type": "markdown",
   "metadata": {},
   "source": [
    "### 2.3.3 split train valid and test data\n",
    "\n",
    "Data plan"
   ]
  },
  {
   "cell_type": "markdown",
   "metadata": {},
   "source": [
    "     train        valid    test              \n",
    "|--------50%--------|--16.6%--|---- 33%----|"
   ]
  },
  {
   "cell_type": "code",
   "execution_count": 211,
   "metadata": {
    "execution": {
     "iopub.execute_input": "2022-10-11T07:30:09.066475Z",
     "iopub.status.busy": "2022-10-11T07:30:09.065955Z",
     "iopub.status.idle": "2022-10-11T07:30:09.086200Z",
     "shell.execute_reply": "2022-10-11T07:30:09.084693Z",
     "shell.execute_reply.started": "2022-10-11T07:30:09.066431Z"
    }
   },
   "outputs": [],
   "source": [
    "X_train_valid, X_test, y_train_valid, y_test = train_test_split(\n",
    "    X, \n",
    "    y, \n",
    "    test_size=0.33, \n",
    "    random_state=777)\n",
    "X_train, X_valid, y_train, y_valid = train_test_split(\n",
    "    X_train_valid, \n",
    "    y_train_valid, \n",
    "    test_size=0.25, \n",
    "    random_state=777)"
   ]
  },
  {
   "cell_type": "code",
   "execution_count": 212,
   "metadata": {
    "execution": {
     "iopub.execute_input": "2022-10-11T07:30:10.735170Z",
     "iopub.status.busy": "2022-10-11T07:30:10.733855Z",
     "iopub.status.idle": "2022-10-11T07:30:10.743003Z",
     "shell.execute_reply": "2022-10-11T07:30:10.741780Z",
     "shell.execute_reply.started": "2022-10-11T07:30:10.735124Z"
    }
   },
   "outputs": [
    {
     "name": "stdout",
     "output_type": "stream",
     "text": [
      "X_train: (16805,)\n",
      "X_valid: (5602,)\n",
      "X_test: (11037,)\n",
      "y_train: (16805,)\n",
      "y_valid: (5602,)\n",
      "y_test: (11037,)\n"
     ]
    }
   ],
   "source": [
    "print('X_train:',X_train.shape)\n",
    "print('X_valid:',X_valid.shape)\n",
    "print('X_test:',X_test.shape)\n",
    "print('y_train:',y_train.shape)\n",
    "print('y_valid:',y_valid.shape)\n",
    "print('y_test:',y_test.shape)"
   ]
  },
  {
   "cell_type": "markdown",
   "metadata": {},
   "source": [
    "### 2.3.4 token the text"
   ]
  },
  {
   "cell_type": "markdown",
   "metadata": {},
   "source": [
    "Build a help function to token the text"
   ]
  },
  {
   "cell_type": "code",
   "execution_count": 213,
   "metadata": {
    "execution": {
     "iopub.execute_input": "2022-10-11T07:30:14.284834Z",
     "iopub.status.busy": "2022-10-11T07:30:14.284411Z",
     "iopub.status.idle": "2022-10-11T07:30:15.239353Z",
     "shell.execute_reply": "2022-10-11T07:30:15.237831Z",
     "shell.execute_reply.started": "2022-10-11T07:30:14.284783Z"
    }
   },
   "outputs": [],
   "source": [
    "\n",
    "tokenizer = Tokenizer(num_words=2500, split=' ')\n",
    "tokenizer.fit_on_texts(df['NewTweet'].values)\n",
    "def token_the_text(text):\n",
    "    token = tokenizer.texts_to_sequences(text.values)\n",
    "    token = pad_sequences(token)\n",
    "    return token"
   ]
  },
  {
   "cell_type": "code",
   "execution_count": 214,
   "metadata": {
    "execution": {
     "iopub.execute_input": "2022-10-11T07:30:16.757572Z",
     "iopub.status.busy": "2022-10-11T07:30:16.756621Z",
     "iopub.status.idle": "2022-10-11T07:30:17.565260Z",
     "shell.execute_reply": "2022-10-11T07:30:17.563985Z",
     "shell.execute_reply.started": "2022-10-11T07:30:16.757527Z"
    }
   },
   "outputs": [],
   "source": [
    "X_train_token = token_the_text(X_train)\n",
    "X_valid_token = token_the_text(X_valid)\n",
    "X_test_token = token_the_text(X_test)"
   ]
  },
  {
   "cell_type": "markdown",
   "metadata": {},
   "source": [
    "Difference between token and original text"
   ]
  },
  {
   "cell_type": "code",
   "execution_count": 215,
   "metadata": {
    "execution": {
     "iopub.execute_input": "2022-10-11T07:30:19.797522Z",
     "iopub.status.busy": "2022-10-11T07:30:19.796799Z",
     "iopub.status.idle": "2022-10-11T07:30:19.803676Z",
     "shell.execute_reply": "2022-10-11T07:30:19.802327Z",
     "shell.execute_reply.started": "2022-10-11T07:30:19.797480Z"
    }
   },
   "outputs": [
    {
     "name": "stdout",
     "output_type": "stream",
     "text": [
      "[   0    0    0    0    0    0    0    0    0    0    0    0    0    0\n",
      "    0    0    0    0   42   75 1380  110  182  256  162  113    3  443\n",
      "  314  944  403   51    1    2   18]\n",
      "stay safe indoor famili medic deliv offer low price top brand name gener product youdrugstor onlinepharmaci canadianpharmaci covid coronaviru pandem\n"
     ]
    }
   ],
   "source": [
    "print(X_train_token[0])\n",
    "print(X_train.values[0])"
   ]
  },
  {
   "cell_type": "markdown",
   "metadata": {},
   "source": [
    "## 3.Build the Model"
   ]
  },
  {
   "cell_type": "markdown",
   "metadata": {},
   "source": [
    "### 3.1 simple LSTM "
   ]
  },
  {
   "cell_type": "code",
   "execution_count": 216,
   "metadata": {
    "execution": {
     "iopub.execute_input": "2022-10-11T07:30:27.538250Z",
     "iopub.status.busy": "2022-10-11T07:30:27.537807Z",
     "iopub.status.idle": "2022-10-11T07:30:27.545842Z",
     "shell.execute_reply": "2022-10-11T07:30:27.544186Z",
     "shell.execute_reply.started": "2022-10-11T07:30:27.538211Z"
    }
   },
   "outputs": [],
   "source": [
    "tpu = None\n",
    "try:\n",
    "    tpu = tf.distribute.cluster_resolver.TPUClusterResolver()\n",
    "    tf.config.experimental_connect_to_cluster(tpu)\n",
    "    tf.tpu.experimental.initialize_tpu_system(tpu)\n",
    "    strategy = tf.distribute.TPUStrategy(tpu)\n",
    "except ValueError:\n",
    "    strategy = tf.distribute.get_strategy()"
   ]
  },
  {
   "cell_type": "markdown",
   "metadata": {},
   "source": [
    "In this case, i will choose `sigmoid` for my output activation function.\n",
    "Because I just delete the `Neutral` rows, and I will set `Extremely Positive` and `Positive` to `1`\n",
    "`Extremely Negative` and `Negative` to `0`"
   ]
  },
  {
   "cell_type": "code",
   "execution_count": 220,
   "metadata": {
    "execution": {
     "iopub.execute_input": "2022-10-11T07:33:17.941374Z",
     "iopub.status.busy": "2022-10-11T07:33:17.940951Z",
     "iopub.status.idle": "2022-10-11T07:33:18.494666Z",
     "shell.execute_reply": "2022-10-11T07:33:18.493325Z",
     "shell.execute_reply.started": "2022-10-11T07:33:17.941340Z"
    }
   },
   "outputs": [
    {
     "name": "stdout",
     "output_type": "stream",
     "text": [
      "Model: \"sequential_17\"\n",
      "_________________________________________________________________\n",
      "Layer (type)                 Output Shape              Param #   \n",
      "=================================================================\n",
      "embedding_17 (Embedding)     (None, 50, 150)           375000    \n",
      "_________________________________________________________________\n",
      "bidirectional_17 (Bidirectio (None, 256)               285696    \n",
      "_________________________________________________________________\n",
      "dropout_32 (Dropout)         (None, 256)               0         \n",
      "_________________________________________________________________\n",
      "dense_32 (Dense)             (None, 256)               65792     \n",
      "_________________________________________________________________\n",
      "dropout_33 (Dropout)         (None, 256)               0         \n",
      "_________________________________________________________________\n",
      "dense_33 (Dense)             (None, 1)                 257       \n",
      "=================================================================\n",
      "Total params: 726,745\n",
      "Trainable params: 726,745\n",
      "Non-trainable params: 0\n",
      "_________________________________________________________________\n"
     ]
    }
   ],
   "source": [
    "\n",
    "with strategy.scope():\n",
    "    model_LSTM = Sequential()\n",
    "    model_LSTM.add(Embedding(2500, 150, input_length = 50))\n",
    "    model_LSTM.add(Bidirectional(LSTM(128)))\n",
    "    model_LSTM.add(Dropout(0.2))\n",
    "    model_LSTM.add(Dense(256, activation='relu'))\n",
    "    model_LSTM.add(Dropout(0.2))\n",
    "    model_LSTM.add(Dense(1, activation='sigmoid'))\n",
    "\n",
    "\n",
    "    model_LSTM.compile(loss = 'binary_crossentropy',\n",
    "              optimizer = 'adam',\n",
    "              metrics = ['accuracy'])\n",
    "    model_LSTM.summary()"
   ]
  },
  {
   "cell_type": "markdown",
   "metadata": {},
   "source": [
    "Build a help function to convert label to `0` and `1`"
   ]
  },
  {
   "cell_type": "code",
   "execution_count": 217,
   "metadata": {
    "execution": {
     "iopub.execute_input": "2022-10-11T07:32:28.780142Z",
     "iopub.status.busy": "2022-10-11T07:32:28.779721Z",
     "iopub.status.idle": "2022-10-11T07:32:28.785939Z",
     "shell.execute_reply": "2022-10-11T07:32:28.784964Z",
     "shell.execute_reply.started": "2022-10-11T07:32:28.780108Z"
    }
   },
   "outputs": [],
   "source": [
    "def convert(text):\n",
    "    if text == 'Extremely Negative' or text == 'Negative':\n",
    "        return 0\n",
    "    elif text == 'Extremely Positive' or text == 'Positive':\n",
    "        return 1\n",
    "    else:\n",
    "        return text"
   ]
  },
  {
   "cell_type": "code",
   "execution_count": 218,
   "metadata": {
    "execution": {
     "iopub.execute_input": "2022-10-11T07:32:30.274107Z",
     "iopub.status.busy": "2022-10-11T07:32:30.273675Z",
     "iopub.status.idle": "2022-10-11T07:32:30.298037Z",
     "shell.execute_reply": "2022-10-11T07:32:30.296755Z",
     "shell.execute_reply.started": "2022-10-11T07:32:30.274076Z"
    }
   },
   "outputs": [],
   "source": [
    "y_train = y_train.apply(convert)\n",
    "y_valid = y_valid.apply(convert)\n",
    "y_test = y_test.apply(convert)"
   ]
  },
  {
   "cell_type": "markdown",
   "metadata": {},
   "source": [
    "Fit the model with training data"
   ]
  },
  {
   "cell_type": "code",
   "execution_count": 221,
   "metadata": {
    "execution": {
     "iopub.execute_input": "2022-10-11T07:33:21.881819Z",
     "iopub.status.busy": "2022-10-11T07:33:21.880781Z",
     "iopub.status.idle": "2022-10-11T07:38:01.914502Z",
     "shell.execute_reply": "2022-10-11T07:38:01.913132Z",
     "shell.execute_reply.started": "2022-10-11T07:33:21.881778Z"
    }
   },
   "outputs": [
    {
     "name": "stdout",
     "output_type": "stream",
     "text": [
      "Epoch 1/10\n",
      "263/263 [==============================] - 33s 111ms/step - loss: 0.4723 - accuracy: 0.7645 - val_loss: 0.3768 - val_accuracy: 0.8409\n",
      "Epoch 2/10\n",
      "263/263 [==============================] - 28s 105ms/step - loss: 0.3214 - accuracy: 0.8680 - val_loss: 0.3675 - val_accuracy: 0.8472\n",
      "Epoch 3/10\n",
      "263/263 [==============================] - 27s 103ms/step - loss: 0.2756 - accuracy: 0.8913 - val_loss: 0.3841 - val_accuracy: 0.8445\n",
      "Epoch 4/10\n",
      "263/263 [==============================] - 28s 105ms/step - loss: 0.2407 - accuracy: 0.9042 - val_loss: 0.4119 - val_accuracy: 0.8402\n",
      "Epoch 5/10\n",
      "263/263 [==============================] - 27s 104ms/step - loss: 0.1949 - accuracy: 0.9263 - val_loss: 0.4875 - val_accuracy: 0.8308\n",
      "Epoch 6/10\n",
      "263/263 [==============================] - 28s 105ms/step - loss: 0.1653 - accuracy: 0.9364 - val_loss: 0.5048 - val_accuracy: 0.8318\n",
      "Epoch 7/10\n",
      "263/263 [==============================] - 28s 105ms/step - loss: 0.1317 - accuracy: 0.9461 - val_loss: 0.6364 - val_accuracy: 0.8217\n",
      "Epoch 8/10\n",
      "263/263 [==============================] - 28s 105ms/step - loss: 0.1096 - accuracy: 0.9566 - val_loss: 0.7442 - val_accuracy: 0.8252\n",
      "Epoch 9/10\n",
      "263/263 [==============================] - 28s 105ms/step - loss: 0.0850 - accuracy: 0.9683 - val_loss: 0.7455 - val_accuracy: 0.8174\n",
      "Epoch 10/10\n",
      "263/263 [==============================] - 27s 102ms/step - loss: 0.0710 - accuracy: 0.9722 - val_loss: 0.9720 - val_accuracy: 0.8235\n"
     ]
    }
   ],
   "source": [
    "LSTM_h = model_LSTM.fit(X_train_token, \n",
    "                      y_train.values, \n",
    "                      epochs=10,\n",
    "                      verbose=1,\n",
    "                      batch_size=64,\n",
    "                      validation_data=(X_valid_token, y_valid.values),\n",
    "                      validation_freq = 1)"
   ]
  },
  {
   "cell_type": "markdown",
   "metadata": {},
   "source": [
    "See the trianing history"
   ]
  },
  {
   "cell_type": "code",
   "execution_count": 222,
   "metadata": {
    "execution": {
     "iopub.execute_input": "2022-10-11T07:38:11.457182Z",
     "iopub.status.busy": "2022-10-11T07:38:11.456755Z",
     "iopub.status.idle": "2022-10-11T07:38:11.619797Z",
     "shell.execute_reply": "2022-10-11T07:38:11.618323Z",
     "shell.execute_reply.started": "2022-10-11T07:38:11.457148Z"
    }
   },
   "outputs": [
    {
     "data": {
      "image/png": "[encoded data removed]",
      "text/plain": [
       "<Figure size 432x288 with 1 Axes>"
      ]
     },
     "metadata": {
      "needs_background": "light"
     },
     "output_type": "display_data"
    }
   ],
   "source": [
    "\n",
    "plt.plot(LSTM_h.history['accuracy'])\n",
    "plt.plot(LSTM_h.history['val_accuracy'])\n",
    "plt.title('model accuracy')\n",
    "plt.ylabel('accuracy')\n",
    "plt.xlabel('epoch')\n",
    "plt.legend(['train', 'val'], loc='upper left')\n",
    "plt.show()"
   ]
  },
  {
   "cell_type": "markdown",
   "metadata": {},
   "source": [
    "Predict the test data"
   ]
  },
  {
   "cell_type": "code",
   "execution_count": 225,
   "metadata": {
    "execution": {
     "iopub.execute_input": "2022-10-11T07:42:37.564887Z",
     "iopub.status.busy": "2022-10-11T07:42:37.564395Z",
     "iopub.status.idle": "2022-10-11T07:42:42.211349Z",
     "shell.execute_reply": "2022-10-11T07:42:42.210331Z",
     "shell.execute_reply.started": "2022-10-11T07:42:37.564843Z"
    }
   },
   "outputs": [
    {
     "name": "stdout",
     "output_type": "stream",
     "text": [
      "87/87 [==============================] - 5s 43ms/step - loss: 0.9124 - accuracy: 0.8269\n"
     ]
    }
   ],
   "source": [
    "score_LSTM = model_LSTM.evaluate(X_test_token, y_test, batch_size=128)"
   ]
  },
  {
   "cell_type": "code",
   "execution_count": 239,
   "metadata": {
    "execution": {
     "iopub.execute_input": "2022-10-11T08:03:50.377289Z",
     "iopub.status.busy": "2022-10-11T08:03:50.376864Z",
     "iopub.status.idle": "2022-10-11T08:03:50.384881Z",
     "shell.execute_reply": "2022-10-11T08:03:50.383202Z",
     "shell.execute_reply.started": "2022-10-11T08:03:50.377239Z"
    }
   },
   "outputs": [
    {
     "name": "stdout",
     "output_type": "stream",
     "text": [
      "model_LSTM loss: 0.912387490272522\n",
      "model_LSTM accuracy: 0.8269457221031189\n"
     ]
    }
   ],
   "source": [
    "print(\"model_LSTM loss:\",score_LSTM[0])\n",
    "print(\"model_LSTM accuracy:\",score_LSTM[1])"
   ]
  },
  {
   "cell_type": "markdown",
   "metadata": {},
   "source": [
    "### 3.2 GRU"
   ]
  },
  {
   "cell_type": "code",
   "execution_count": 241,
   "metadata": {
    "execution": {
     "iopub.execute_input": "2022-10-11T08:04:12.447144Z",
     "iopub.status.busy": "2022-10-11T08:04:12.446712Z",
     "iopub.status.idle": "2022-10-11T08:04:12.932667Z",
     "shell.execute_reply": "2022-10-11T08:04:12.931179Z",
     "shell.execute_reply.started": "2022-10-11T08:04:12.447108Z"
    }
   },
   "outputs": [
    {
     "name": "stdout",
     "output_type": "stream",
     "text": [
      "Model: \"sequential_24\"\n",
      "_________________________________________________________________\n",
      "Layer (type)                 Output Shape              Param #   \n",
      "=================================================================\n",
      "embedding_24 (Embedding)     (None, 50, 200)           500000    \n",
      "_________________________________________________________________\n",
      "bidirectional_26 (Bidirectio (None, 256)               253440    \n",
      "_________________________________________________________________\n",
      "dropout_44 (Dropout)         (None, 256)               0         \n",
      "_________________________________________________________________\n",
      "dense_43 (Dense)             (None, 256)               65792     \n",
      "_________________________________________________________________\n",
      "dropout_45 (Dropout)         (None, 256)               0         \n",
      "_________________________________________________________________\n",
      "dense_44 (Dense)             (None, 1)                 257       \n",
      "=================================================================\n",
      "Total params: 819,489\n",
      "Trainable params: 819,489\n",
      "Non-trainable params: 0\n",
      "_________________________________________________________________\n"
     ]
    }
   ],
   "source": [
    "\n",
    "with strategy.scope():\n",
    "    model_GRU = Sequential()\n",
    "    model_GRU.add(Embedding(2500, 200, input_length = 50))\n",
    "    model_GRU.add(Bidirectional(GRU(128)))\n",
    "    model_GRU.add(Dropout(0.2))\n",
    "    model_GRU.add(Dense(256, activation='relu'))\n",
    "    model_GRU.add(Dropout(0.2))\n",
    "    model_GRU.add(Dense(1, activation='sigmoid'))\n",
    "\n",
    "\n",
    "    model_GRU.compile(loss = 'binary_crossentropy',\n",
    "              optimizer = 'adam',\n",
    "              metrics = ['accuracy'])\n",
    "    model_GRU.summary()"
   ]
  },
  {
   "cell_type": "code",
   "execution_count": 242,
   "metadata": {
    "execution": {
     "iopub.execute_input": "2022-10-11T08:04:16.326619Z",
     "iopub.status.busy": "2022-10-11T08:04:16.326169Z",
     "iopub.status.idle": "2022-10-11T08:10:02.145100Z",
     "shell.execute_reply": "2022-10-11T08:10:02.144065Z",
     "shell.execute_reply.started": "2022-10-11T08:04:16.326585Z"
    }
   },
   "outputs": [
    {
     "name": "stdout",
     "output_type": "stream",
     "text": [
      "Epoch 1/10\n",
      "263/263 [==============================] - 74s 118ms/step - loss: 0.4740 - accuracy: 0.7636 - val_loss: 0.4028 - val_accuracy: 0.8188\n",
      "Epoch 2/10\n",
      "263/263 [==============================] - 30s 116ms/step - loss: 0.3175 - accuracy: 0.8703 - val_loss: 0.3634 - val_accuracy: 0.8474\n",
      "Epoch 3/10\n",
      "263/263 [==============================] - 31s 117ms/step - loss: 0.2721 - accuracy: 0.8924 - val_loss: 0.3672 - val_accuracy: 0.8433\n",
      "Epoch 4/10\n",
      "263/263 [==============================] - 30s 113ms/step - loss: 0.2309 - accuracy: 0.9118 - val_loss: 0.4124 - val_accuracy: 0.8438\n",
      "Epoch 5/10\n",
      "263/263 [==============================] - 29s 112ms/step - loss: 0.1926 - accuracy: 0.9272 - val_loss: 0.4458 - val_accuracy: 0.8338\n",
      "Epoch 6/10\n",
      "263/263 [==============================] - 30s 114ms/step - loss: 0.1523 - accuracy: 0.9436 - val_loss: 0.5430 - val_accuracy: 0.8336\n",
      "Epoch 7/10\n",
      "263/263 [==============================] - 31s 117ms/step - loss: 0.1254 - accuracy: 0.9529 - val_loss: 0.6199 - val_accuracy: 0.8354\n",
      "Epoch 8/10\n",
      "263/263 [==============================] - 30s 115ms/step - loss: 0.1056 - accuracy: 0.9598 - val_loss: 0.6320 - val_accuracy: 0.8267\n",
      "Epoch 9/10\n",
      "263/263 [==============================] - 30s 115ms/step - loss: 0.0849 - accuracy: 0.9685 - val_loss: 0.6428 - val_accuracy: 0.8192\n",
      "Epoch 10/10\n",
      "263/263 [==============================] - 31s 117ms/step - loss: 0.0709 - accuracy: 0.9726 - val_loss: 0.8187 - val_accuracy: 0.8236\n"
     ]
    }
   ],
   "source": [
    "GRU_h = model_GRU.fit(X_train_token, \n",
    "                      y_train.values, \n",
    "                      epochs=10,\n",
    "                      verbose=1,\n",
    "                      batch_size=64,\n",
    "                      validation_data=(X_valid_token, y_valid.values),\n",
    "                      validation_freq = 1)"
   ]
  },
  {
   "cell_type": "code",
   "execution_count": 243,
   "metadata": {
    "execution": {
     "iopub.execute_input": "2022-10-11T08:10:23.523860Z",
     "iopub.status.busy": "2022-10-11T08:10:23.523463Z",
     "iopub.status.idle": "2022-10-11T08:10:23.728634Z",
     "shell.execute_reply": "2022-10-11T08:10:23.727168Z",
     "shell.execute_reply.started": "2022-10-11T08:10:23.523825Z"
    }
   },
   "outputs": [
    {
     "data": {
      "image/png": "[encoded data removed]",
      "text/plain": [
       "<Figure size 432x288 with 1 Axes>"
      ]
     },
     "metadata": {
      "needs_background": "light"
     },
     "output_type": "display_data"
    }
   ],
   "source": [
    "\n",
    "plt.plot(GRU_h.history['accuracy'])\n",
    "plt.plot(GRU_h.history['val_accuracy'])\n",
    "plt.title('model accuracy')\n",
    "plt.ylabel('accuracy')\n",
    "plt.xlabel('epoch')\n",
    "plt.legend(['train', 'val'], loc='upper left')\n",
    "plt.show()"
   ]
  },
  {
   "cell_type": "code",
   "execution_count": 244,
   "metadata": {
    "execution": {
     "iopub.execute_input": "2022-10-11T08:11:03.340208Z",
     "iopub.status.busy": "2022-10-11T08:11:03.338901Z",
     "iopub.status.idle": "2022-10-11T08:11:08.202805Z",
     "shell.execute_reply": "2022-10-11T08:11:08.201824Z",
     "shell.execute_reply.started": "2022-10-11T08:11:03.340151Z"
    }
   },
   "outputs": [
    {
     "name": "stdout",
     "output_type": "stream",
     "text": [
      "87/87 [==============================] - 5s 47ms/step - loss: 0.7879 - accuracy: 0.8225\n"
     ]
    }
   ],
   "source": [
    "score_GRU = model_GRU.evaluate(X_test_token, y_test, batch_size=128)"
   ]
  },
  {
   "cell_type": "code",
   "execution_count": 246,
   "metadata": {
    "execution": {
     "iopub.execute_input": "2022-10-11T08:15:56.460021Z",
     "iopub.status.busy": "2022-10-11T08:15:56.459569Z",
     "iopub.status.idle": "2022-10-11T08:15:56.466371Z",
     "shell.execute_reply": "2022-10-11T08:15:56.465137Z",
     "shell.execute_reply.started": "2022-10-11T08:15:56.459984Z"
    }
   },
   "outputs": [
    {
     "name": "stdout",
     "output_type": "stream",
     "text": [
      "model_GRU  loss: 0.7878970503807068\n",
      "model_GRU  accuracy: 0.8225061297416687\n"
     ]
    }
   ],
   "source": [
    "print(\"model_GRU  loss:\",score_GRU[0])\n",
    "print(\"model_GRU  accuracy:\",score_GRU[1])"
   ]
  },
  {
   "cell_type": "markdown",
   "metadata": {},
   "source": [
    "## 4.Result"
   ]
  },
  {
   "cell_type": "markdown",
   "metadata": {},
   "source": [
    "Compare two models performace"
   ]
  },
  {
   "cell_type": "markdown",
   "metadata": {},
   "source": [
    "||  LSTM   | GRU  |\n",
    "|  ----  |  ----  | ----  |\n",
    "|loss| 0.912387  | 0.787897 |\n",
    "|accuracy| 0.826945  | 0.822506 |"
   ]
  },
  {
   "cell_type": "markdown",
   "metadata": {},
   "source": [
    "The 2 models have almost the same accuracy are almost same accuracy.\n",
    "The accuracy of both models is greater than 0.8, that is a nice result"
   ]
  },
  {
   "cell_type": "markdown",
   "metadata": {},
   "source": [
    "### Conclusion"
   ]
  },
  {
   "cell_type": "markdown",
   "metadata": {},
   "source": [
    "In this project, I used `LSTM` and `GRU` to classify sentiment of these tweets.In EDA, I dropped the useless feature and cleaned the text for our models. Second step is to tokenize these cleaned tweets, after tokenizing, the text will convert to a word index, it makes the training model more simple. After EDA, we built 2 models `LSTM` and `GRU` ,two models almost have the same structure, only the Bidirectional layer is different.The models performed well after training ,and if models can be trained with a larger amount of data, the accuracy of the classification will be better."
   ]
  }
 ],
 "metadata": {
  "kernelspec": {
   "display_name": "Python 3",
   "language": "python",
   "name": "python3"
  },
  "language_info": {
   "codemirror_mode": {
    "name": "ipython",
    "version": 3
   },
   "file_extension": ".py",
   "mimetype": "text/x-python",
   "name": "python",
   "nbconvert_exporter": "python",
   "pygments_lexer": "ipython3",
   "version": "3.8.8"
  }
 },
 "nbformat": 4,
 "nbformat_minor": 4
}
